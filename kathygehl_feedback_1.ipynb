{
 "cells": [
  {
   "cell_type": "markdown",
   "metadata": {},
   "source": [
    "# Comments for first project report\n",
    "\n",
    "19-March-2019\n",
    "\n",
    "**Instructions**: Please provide meaningful and constructive feedback to each presenter. Feel free to suggest Python modules, blogs, or books that might be helpful. Presentations must not exceed 3 minutes and must clearly cover: 1) motivation for the project, 2) current state of the project and roadblocks, 3) future steps. **Feedback will be anonymous to the presenter**.\n",
    "\n",
    "**Upload** the notebook with your comments to Canvas at the end of the class. Please rename and save the notebook with your name and last name (e.g. `andrespatrignani_feedback_1.ipynb`)."
   ]
  },
  {
   "cell_type": "markdown",
   "metadata": {},
   "source": [
    "## Brett Plemons\n",
    "Nice job. Seems quite involved.Never heard of some of these modules.\n"
   ]
  },
  {
   "cell_type": "markdown",
   "metadata": {},
   "source": [
    "## Elliott Carver\n",
    "Good job. Seems like a useful code to have in place for this project. Andres had some good suggestions on rounding the dates."
   ]
  },
  {
   "cell_type": "markdown",
   "metadata": {},
   "source": [
    "## John Coffin\n",
    "Cool dissertation project! Seems pretty complicated. Trimming steps seems like a good idea.\n",
    "\n"
   ]
  },
  {
   "cell_type": "markdown",
   "metadata": {},
   "source": [
    "## Adrian Correndo\n",
    "Good job. Seems like a very useful application. Got some ideas for my own project on sorting the data\n",
    "\n",
    "\n"
   ]
  },
  {
   "cell_type": "markdown",
   "metadata": {},
   "source": [
    "## Byron Evers\n",
    "Good job! Like the checklist feature you used. Several complicated equations in play. Seems like a lot to accomplish in one code project.\n",
    "\n",
    "\n"
   ]
  },
  {
   "cell_type": "markdown",
   "metadata": {},
   "source": [
    "## Javier Fernandez\n",
    "Neat use of a Table of Contents in the notebook. Looks like you have made good progress.\n",
    "\n",
    "\n"
   ]
  },
  {
   "cell_type": "markdown",
   "metadata": {},
   "source": [
    "## Katharine Gehl\n",
    "\n",
    "\n",
    "\n"
   ]
  },
  {
   "cell_type": "markdown",
   "metadata": {},
   "source": [
    "## Nathan Hein\n",
    "Good job! Have made a lot of progress. Liked how you trimmed the dataset to what you needed. May help me do that with mine. Very cool you got to use the vpd function we did in class.\n",
    "\n",
    "\n"
   ]
  },
  {
   "cell_type": "markdown",
   "metadata": {},
   "source": [
    "## Ruben Lerma-Reyes\n",
    "Not present\n",
    "\n",
    "\n"
   ]
  },
  {
   "cell_type": "markdown",
   "metadata": {},
   "source": [
    "## Luiz Moro Rosso\n",
    "Interesting idea. Very useful application. Impressive amount of progress.\n",
    "\n",
    "\n"
   ]
  },
  {
   "cell_type": "markdown",
   "metadata": {},
   "source": [
    "## Parchuri Prasad\n",
    "Interesting research. Good progress made at this point.\n",
    "\n",
    "\n",
    "\n"
   ]
  },
  {
   "cell_type": "markdown",
   "metadata": {},
   "source": [
    "## Pedro Rossini\n",
    "Impressive idea for a code. How do you define surface soil and subsurface soil? Root zone for different crops? Cool project.\n",
    "\n",
    "\n"
   ]
  },
  {
   "cell_type": "markdown",
   "metadata": {},
   "source": [
    "## Rachel Veenstra\n",
    "Great job. Lots of progress made already. You have a good grasp of your project outcomes.\n",
    "\n",
    "\n"
   ]
  },
  {
   "cell_type": "markdown",
   "metadata": {},
   "source": [
    "## Bre Waterman\n",
    "Good start. Testing your code on a simple dataset is a good idea I think.\n",
    "\n",
    "\n"
   ]
  },
  {
   "cell_type": "markdown",
   "metadata": {},
   "source": [
    "## Ruth Welti\n",
    "Good progress! Interesting plot. Wow, a lot of output!\n",
    "\n",
    "\n"
   ]
  },
  {
   "cell_type": "markdown",
   "metadata": {},
   "source": [
    "## Elizabeth Wilson\n",
    "Good intro. Like the idea of generating a Venn diagram. Interesting project. Nicely summed up and to the point.\n",
    "\n",
    "\n"
   ]
  }
 ],
 "metadata": {
  "kernelspec": {
   "display_name": "Python 3",
   "language": "python",
   "name": "python3"
  },
  "language_info": {
   "codemirror_mode": {
    "name": "ipython",
    "version": 3
   },
   "file_extension": ".py",
   "mimetype": "text/x-python",
   "name": "python",
   "nbconvert_exporter": "python",
   "pygments_lexer": "ipython3",
   "version": "3.7.1"
  }
 },
 "nbformat": 4,
 "nbformat_minor": 2
}
