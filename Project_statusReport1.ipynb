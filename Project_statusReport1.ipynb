{
 "cells": [
  {
   "cell_type": "markdown",
   "metadata": {},
   "source": [
    "# Determine N2O flux from grain sorghum cropping systems in the Great Plains"
   ]
  },
  {
   "cell_type": "markdown",
   "metadata": {},
   "source": [
    "## Kathy Gehl"
   ]
  },
  {
   "cell_type": "markdown",
   "metadata": {},
   "source": [
    "### Motivation\n",
    "\n",
    "This project generates a large amount of N2O gas measurements over the growing season at multiple locations. Each sampling event is sampled over a time sequence of 0, 15, 30, and 45 minutes. Measured N2O concentrations are regressed against time and the resulting slope is used to calculate the N2O flux during that sampling event. Linear extrapolation is used to estimate flux between sampling points and then season-long emissions are estimated. We currently have been performing these calculations in Excel, but having a code in place would streamline the process and would help reduce human errors."
   ]
  },
  {
   "cell_type": "markdown",
   "metadata": {},
   "source": [
    "## Current project status\n",
    "\n",
    "I am researching the best module to use for the linear regression analysis. I am also getting familiar with the datasets as this is a brand new project to me. The 2018 data has already been collected and analysed before I came onboard.\n",
    "\n",
    "### Roadblocks\n",
    "\n",
    "The gas samples are analzyed in reverse time order. Also, the datasets have \"standard\" and \"air\" checks every so often. I need to figure out how to flip the time series and remove or ignore the lines of data that are not needed."
   ]
  },
  {
   "cell_type": "code",
   "execution_count": null,
   "metadata": {},
   "outputs": [],
   "source": []
  }
 ],
 "metadata": {
  "kernelspec": {
   "display_name": "Python 3",
   "language": "python",
   "name": "python3"
  },
  "language_info": {
   "codemirror_mode": {
    "name": "ipython",
    "version": 3
   },
   "file_extension": ".py",
   "mimetype": "text/x-python",
   "name": "python",
   "nbconvert_exporter": "python",
   "pygments_lexer": "ipython3",
   "version": "3.7.1"
  }
 },
 "nbformat": 4,
 "nbformat_minor": 2
}
