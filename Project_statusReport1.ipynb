{
 "cells": [
  {
   "cell_type": "markdown",
   "metadata": {},
   "source": [
    "# Determine N2O flux from grain sorghum cropping systems in the Great Plains"
   ]
  },
  {
   "cell_type": "markdown",
   "metadata": {},
   "source": [
    "## Kathy Gehl"
   ]
  },
  {
   "cell_type": "markdown",
   "metadata": {},
   "source": [
    "### Motivation\n",
    "\n",
    "This project generates a large amount of N2O gas measurements over the growing season at multiple locations. Each sampling event is sampled over a time sequence of 0, 15, 30, and 45 minutes. Measured N2O concentrations are regressed against time and the resulting slope is used to calculate the N2O flux during that sampling event. Linear extrapolation is used to estimate flux between sampling points and then season-long emissions are estimated. We currently have been performing these calculations in Excel, but having a code in place would streamline the process and would help reduce human errors."
   ]
  },
  {
   "cell_type": "markdown",
   "metadata": {},
   "source": [
    "## Current project status\n",
    "\n",
    "I am researching the best module to use for the linear regression analysis. I am also getting familiar with the datasets as this is a brand new project to me. The 2018 data has already been collected and analysed before I came onboard. I created a small sample data set that is easier to work with and that could be used to test my code. I was able to upload it properly as a .csv file.\n"
   ]
  },
  {
   "cell_type": "code",
   "execution_count": 12,
   "metadata": {},
   "outputs": [
    {
     "name": "stdout",
     "output_type": "stream",
     "text": [
      "                                           Unnamed: 0  Area/N2O  Quantity/N2O\n",
      "0    2018\\06\\AIR CHK 262018_6_28_2018 7_13_50 PM.DATA    1756.4          0.49\n",
      "1                    2018\\06\\COLBY_404B_T4562018.DATA    1793.9          0.50\n",
      "2                    2018\\06\\COLBY_404B_T3062018.DATA    2194.5          0.62\n",
      "3                    2018\\06\\COLBY_404B_T1562018.DATA    2001.6          0.56\n",
      "4                     2018\\06\\COLBY_404B_T062018.DATA    1794.2          0.50\n",
      "5                     2018\\06\\COLBY_404_T4562018.DATA    2624.5          0.74\n",
      "6                     2018\\06\\COLBY_404_T3062018.DATA    2354.5          0.66\n",
      "7                     2018\\06\\COLBY_404_T1562018.DATA    2019.7          0.57\n",
      "8                      2018\\06\\COLBY_404_T062018.DATA    1815.1          0.51\n",
      "9                     2018\\06\\COLBY_403_T4562018.DATA    3275.8          0.92\n",
      "10                    2018\\06\\COLBY_403_T3062018.DATA    1759.0          0.50\n",
      "11                    2018\\06\\COLBY_403_T1562018.DATA    2310.9          0.65\n",
      "12                     2018\\06\\COLBY_403_T062018.DATA    1796.8          0.51\n",
      "13                    2018\\06\\COLBY_402_T4562018.DATA    6353.9          1.79\n",
      "14                    2018\\06\\COLBY_402_T3062018.DATA    4949.2          1.39\n",
      "15                    2018\\06\\COLBY_402_T1562018.DATA    3547.6          1.00\n",
      "16                     2018\\06\\COLBY_402_T062018.DATA    1796.1          0.51\n",
      "17                    2018\\06\\COLBY_401_T4562018.DATA    5439.5          1.53\n",
      "18                    2018\\06\\COLBY_401_T3062018.DATA    4601.9          1.30\n",
      "19                    2018\\06\\COLBY_401_T1562018.DATA    3461.1          0.97\n",
      "20                     2018\\06\\COLBY_401_T062018.DATA    1838.5          0.52\n",
      "21  2018\\06\\Standard Check_1_62018_6_28_2018 4_20_...    8860.4          2.49\n",
      "22                        2018\\06\\STD CHK 262018.DATA    8988.7          2.53\n"
     ]
    }
   ],
   "source": [
    "import pandas as pd\n",
    "sample_data = pd.read_csv('Sample_data_set.csv', sep=',')\n",
    "print(sample_data)"
   ]
  },
  {
   "cell_type": "markdown",
   "metadata": {},
   "source": [
    "### Roadblocks\n",
    "\n",
    "The gas samples are analzyed in reverse time order. Also, the datasets have \"standard\" and \"air\" checks every so often. I need to figure out how to flip the time series and perform a simple linear regression for each sampling event for each plot."
   ]
  },
  {
   "cell_type": "markdown",
   "metadata": {},
   "source": [
    "### Future Steps\n",
    "\n",
    "Work on reorganizing the datasets. Figure out how I will calculate the N2O flux using linear regression."
   ]
  }
 ],
 "metadata": {
  "kernelspec": {
   "display_name": "Python 3",
   "language": "python",
   "name": "python3"
  },
  "language_info": {
   "codemirror_mode": {
    "name": "ipython",
    "version": 3
   },
   "file_extension": ".py",
   "mimetype": "text/x-python",
   "name": "python",
   "nbconvert_exporter": "python",
   "pygments_lexer": "ipython3",
   "version": "3.7.1"
  }
 },
 "nbformat": 4,
 "nbformat_minor": 2
}
