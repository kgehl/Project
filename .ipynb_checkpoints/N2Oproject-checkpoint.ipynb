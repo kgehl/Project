{
 "cells": [
  {
   "cell_type": "code",
   "execution_count": 4,
   "metadata": {},
   "outputs": [],
   "source": [
    "import pandas as pd\n",
    "import glob"
   ]
  },
  {
   "cell_type": "code",
   "execution_count": 5,
   "metadata": {},
   "outputs": [
    {
     "name": "stdout",
     "output_type": "stream",
     "text": [
      "C:\\Users\\kgehl\\Desktop\\Coding\\Project\n"
     ]
    }
   ],
   "source": [
    "dataset_dir = '/Users/kgehl/Desktop/Coding/Project/'\n",
    "glob.os.chdir(dataset_dir)\n",
    "print(glob.os.getcwd())\n"
   ]
  },
  {
   "cell_type": "code",
   "execution_count": 9,
   "metadata": {},
   "outputs": [
    {
     "name": "stdout",
     "output_type": "stream",
     "text": [
      "                                           Unnamed: 0  Area/N2O  Quantity/N2O\n",
      "0    2018\\06\\AIR CHK 262018_6_28_2018 7_13_50 PM.DATA    1756.4          0.49\n",
      "1                    2018\\06\\COLBY_404B_T4562018.DATA    1793.9          0.50\n",
      "2                    2018\\06\\COLBY_404B_T3062018.DATA    2194.5          0.62\n",
      "3                    2018\\06\\COLBY_404B_T1562018.DATA    2001.6          0.56\n",
      "4                     2018\\06\\COLBY_404B_T062018.DATA    1794.2          0.50\n",
      "5                     2018\\06\\COLBY_404_T4562018.DATA    2624.5          0.74\n",
      "6                     2018\\06\\COLBY_404_T3062018.DATA    2354.5          0.66\n",
      "7                     2018\\06\\COLBY_404_T1562018.DATA    2019.7          0.57\n",
      "8                      2018\\06\\COLBY_404_T062018.DATA    1815.1          0.51\n",
      "9                     2018\\06\\COLBY_403_T4562018.DATA    3275.8          0.92\n",
      "10                    2018\\06\\COLBY_403_T3062018.DATA    1759.0          0.50\n",
      "11                    2018\\06\\COLBY_403_T1562018.DATA    2310.9          0.65\n",
      "12                     2018\\06\\COLBY_403_T062018.DATA    1796.8          0.51\n",
      "13                    2018\\06\\COLBY_402_T4562018.DATA    6353.9          1.79\n",
      "14                    2018\\06\\COLBY_402_T3062018.DATA    4949.2          1.39\n",
      "15                    2018\\06\\COLBY_402_T1562018.DATA    3547.6          1.00\n",
      "16                     2018\\06\\COLBY_402_T062018.DATA    1796.1          0.51\n",
      "17                    2018\\06\\COLBY_401_T4562018.DATA    5439.5          1.53\n",
      "18                    2018\\06\\COLBY_401_T3062018.DATA    4601.9          1.30\n",
      "19                    2018\\06\\COLBY_401_T1562018.DATA    3461.1          0.97\n",
      "20                     2018\\06\\COLBY_401_T062018.DATA    1838.5          0.52\n",
      "21  2018\\06\\Standard Check_1_62018_6_28_2018 4_20_...    8860.4          2.49\n",
      "22                        2018\\06\\STD CHK 262018.DATA    8988.7          2.53\n"
     ]
    }
   ],
   "source": [
    "sample_data = pd.read_csv('Sample_data_set.csv', sep=',')\n",
    "print(sample_data)"
   ]
  },
  {
   "cell_type": "code",
   "execution_count": null,
   "metadata": {},
   "outputs": [],
   "source": []
  }
 ],
 "metadata": {
  "kernelspec": {
   "display_name": "Python 3",
   "language": "python",
   "name": "python3"
  },
  "language_info": {
   "codemirror_mode": {
    "name": "ipython",
    "version": 3
   },
   "file_extension": ".py",
   "mimetype": "text/x-python",
   "name": "python",
   "nbconvert_exporter": "python",
   "pygments_lexer": "ipython3",
   "version": "3.7.1"
  }
 },
 "nbformat": 4,
 "nbformat_minor": 2
}
