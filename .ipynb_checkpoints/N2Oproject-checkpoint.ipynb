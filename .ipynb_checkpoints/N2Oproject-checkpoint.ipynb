{
 "cells": [
  {
   "cell_type": "markdown",
   "metadata": {},
   "source": [
    "## Determine Nitrous Oxide Flux from Sorgum Cropping Systems in the Great Plains - Kathy Gehl\n",
    "\n",
    "### Project background\n",
    "\n",
    "#### This project generates a large amount of N2O gas measurements over the growing season at multiple locations. Each sampling event is sampled over a time sequence of 0, 15, 30, and 45 minutes. Measured N2O concentrations are linearly regressed against the time sequence and the slope is considered the N2O flux for that plot on each sampling date. Linear extrapolation is used to estimate flux between sampling points and then season-long emissions are estimated. We currently have been performing these calculations in Excel, but having a code in place would streamline the process and would help reduce human errors."
   ]
  },
  {
   "cell_type": "code",
   "execution_count": 9,
   "metadata": {},
   "outputs": [],
   "source": [
    "#Import modules\n",
    "\n",
    "import pandas as pd\n",
    "import glob\n",
    "import numpy as np\n",
    "import matplotlib.pyplot as plt\n",
    "%matplotlib inline\n",
    "\n",
    "from scipy import stats"
   ]
  },
  {
   "cell_type": "code",
   "execution_count": 119,
   "metadata": {},
   "outputs": [],
   "source": [
    "#Access the data file\n",
    "\n",
    "dataset_dir = '/Users/kgehl/Desktop/Coding/Project/'\n",
    "glob.os.chdir(dataset_dir)"
   ]
  },
  {
   "cell_type": "code",
   "execution_count": 95,
   "metadata": {},
   "outputs": [
    {
     "data": {
      "text/html": [
       "<div>\n",
       "<style scoped>\n",
       "    .dataframe tbody tr th:only-of-type {\n",
       "        vertical-align: middle;\n",
       "    }\n",
       "\n",
       "    .dataframe tbody tr th {\n",
       "        vertical-align: top;\n",
       "    }\n",
       "\n",
       "    .dataframe thead th {\n",
       "        text-align: right;\n",
       "    }\n",
       "</style>\n",
       "<table border=\"1\" class=\"dataframe\">\n",
       "  <thead>\n",
       "    <tr style=\"text-align: right;\">\n",
       "      <th></th>\n",
       "      <th>Sample_ID</th>\n",
       "      <th>N2O</th>\n",
       "    </tr>\n",
       "  </thead>\n",
       "  <tbody>\n",
       "    <tr>\n",
       "      <th>0</th>\n",
       "      <td>2018\\06\\STD CHK 262218.DATA</td>\n",
       "      <td>2.42</td>\n",
       "    </tr>\n",
       "    <tr>\n",
       "      <th>1</th>\n",
       "      <td>2018\\06\\COLBY_304_T4562218.DATA</td>\n",
       "      <td>0.49</td>\n",
       "    </tr>\n",
       "    <tr>\n",
       "      <th>2</th>\n",
       "      <td>2018\\06\\COLBY_304_T3062218.DATA</td>\n",
       "      <td>0.50</td>\n",
       "    </tr>\n",
       "    <tr>\n",
       "      <th>3</th>\n",
       "      <td>2018\\06\\COLBY_304_T1562218.DATA</td>\n",
       "      <td>0.50</td>\n",
       "    </tr>\n",
       "    <tr>\n",
       "      <th>4</th>\n",
       "      <td>2018\\06\\COLBY_304_T062218.DATA</td>\n",
       "      <td>0.49</td>\n",
       "    </tr>\n",
       "  </tbody>\n",
       "</table>\n",
       "</div>"
      ],
      "text/plain": [
       "                         Sample_ID   N2O\n",
       "0      2018\\06\\STD CHK 262218.DATA  2.42\n",
       "1  2018\\06\\COLBY_304_T4562218.DATA  0.49\n",
       "2  2018\\06\\COLBY_304_T3062218.DATA  0.50\n",
       "3  2018\\06\\COLBY_304_T1562218.DATA  0.50\n",
       "4   2018\\06\\COLBY_304_T062218.DATA  0.49"
      ]
     },
     "execution_count": 95,
     "metadata": {},
     "output_type": "execute_result"
    }
   ],
   "source": [
    "#Creating the dataframe and renaming/cleaning up some of the raw columns\n",
    "\n",
    "N2O = pd.read_csv('Sample_data_set2.csv', sep=',')   #Creates the initial Data frame of N2O\n",
    "N2Ob = N2O.drop(columns=['Area/N2O'])      #Drops an column of data not needed. Saved new df as N2Ob\n",
    "N2Oc = N2Ob.rename(columns={'Unnamed: 0':'Sample_ID', 'Quantity/N2O':'N2O'})  #Renamed some column headings. Revised df is N2Oc\n",
    "N2Oc.head(5)"
   ]
  },
  {
   "cell_type": "code",
   "execution_count": 111,
   "metadata": {},
   "outputs": [
    {
     "data": {
      "text/html": [
       "<div>\n",
       "<style scoped>\n",
       "    .dataframe tbody tr th:only-of-type {\n",
       "        vertical-align: middle;\n",
       "    }\n",
       "\n",
       "    .dataframe tbody tr th {\n",
       "        vertical-align: top;\n",
       "    }\n",
       "\n",
       "    .dataframe thead th {\n",
       "        text-align: right;\n",
       "    }\n",
       "</style>\n",
       "<table border=\"1\" class=\"dataframe\">\n",
       "  <thead>\n",
       "    <tr style=\"text-align: right;\">\n",
       "      <th></th>\n",
       "      <th>Sample_ID</th>\n",
       "      <th>N2O</th>\n",
       "    </tr>\n",
       "  </thead>\n",
       "  <tbody>\n",
       "    <tr>\n",
       "      <th>1</th>\n",
       "      <td>2018\\06\\COLBY_304_T4562218.DATA</td>\n",
       "      <td>0.49</td>\n",
       "    </tr>\n",
       "    <tr>\n",
       "      <th>2</th>\n",
       "      <td>2018\\06\\COLBY_304_T3062218.DATA</td>\n",
       "      <td>0.50</td>\n",
       "    </tr>\n",
       "    <tr>\n",
       "      <th>3</th>\n",
       "      <td>2018\\06\\COLBY_304_T1562218.DATA</td>\n",
       "      <td>0.50</td>\n",
       "    </tr>\n",
       "    <tr>\n",
       "      <th>4</th>\n",
       "      <td>2018\\06\\COLBY_304_T062218.DATA</td>\n",
       "      <td>0.49</td>\n",
       "    </tr>\n",
       "    <tr>\n",
       "      <th>5</th>\n",
       "      <td>2018\\06\\COLBY_303_T4562218.DATA</td>\n",
       "      <td>1.43</td>\n",
       "    </tr>\n",
       "    <tr>\n",
       "      <th>6</th>\n",
       "      <td>2018\\06\\COLBY_303_T3062218.DATA</td>\n",
       "      <td>1.26</td>\n",
       "    </tr>\n",
       "    <tr>\n",
       "      <th>7</th>\n",
       "      <td>2018\\06\\COLBY_303_T1562218.DATA</td>\n",
       "      <td>0.87</td>\n",
       "    </tr>\n",
       "    <tr>\n",
       "      <th>8</th>\n",
       "      <td>2018\\06\\COLBY_303_T062218.DATA</td>\n",
       "      <td>0.51</td>\n",
       "    </tr>\n",
       "    <tr>\n",
       "      <th>9</th>\n",
       "      <td>2018\\06\\COLBY_302B_T4562218.DATA</td>\n",
       "      <td>0.62</td>\n",
       "    </tr>\n",
       "    <tr>\n",
       "      <th>10</th>\n",
       "      <td>2018\\06\\COLBY_302B_T3062218.DATA</td>\n",
       "      <td>0.58</td>\n",
       "    </tr>\n",
       "  </tbody>\n",
       "</table>\n",
       "</div>"
      ],
      "text/plain": [
       "                           Sample_ID   N2O\n",
       "1    2018\\06\\COLBY_304_T4562218.DATA  0.49\n",
       "2    2018\\06\\COLBY_304_T3062218.DATA  0.50\n",
       "3    2018\\06\\COLBY_304_T1562218.DATA  0.50\n",
       "4     2018\\06\\COLBY_304_T062218.DATA  0.49\n",
       "5    2018\\06\\COLBY_303_T4562218.DATA  1.43\n",
       "6    2018\\06\\COLBY_303_T3062218.DATA  1.26\n",
       "7    2018\\06\\COLBY_303_T1562218.DATA  0.87\n",
       "8     2018\\06\\COLBY_303_T062218.DATA  0.51\n",
       "9   2018\\06\\COLBY_302B_T4562218.DATA  0.62\n",
       "10  2018\\06\\COLBY_302B_T3062218.DATA  0.58"
      ]
     },
     "execution_count": 111,
     "metadata": {},
     "output_type": "execute_result"
    }
   ],
   "source": [
    "#Deleting rows that are the standard and air checks.\n",
    "\n",
    "Chk_rows = ['CHK', 'Check', 'CHECK']\n",
    "pattern = '|'.join(Chk_rows)\n",
    "N2O_new = N2Oc.loc[~N2Oc['Sample_ID'].str.contains(pattern, case=False)]\n",
    "N2O_new.head(10)"
   ]
  },
  {
   "cell_type": "code",
   "execution_count": 115,
   "metadata": {},
   "outputs": [
    {
     "data": {
      "text/html": [
       "<div>\n",
       "<style scoped>\n",
       "    .dataframe tbody tr th:only-of-type {\n",
       "        vertical-align: middle;\n",
       "    }\n",
       "\n",
       "    .dataframe tbody tr th {\n",
       "        vertical-align: top;\n",
       "    }\n",
       "\n",
       "    .dataframe thead th {\n",
       "        text-align: right;\n",
       "    }\n",
       "</style>\n",
       "<table border=\"1\" class=\"dataframe\">\n",
       "  <thead>\n",
       "    <tr style=\"text-align: right;\">\n",
       "      <th></th>\n",
       "      <th>Sample_ID</th>\n",
       "      <th>Site</th>\n",
       "      <th>Plot</th>\n",
       "      <th>Time</th>\n",
       "      <th>N2O</th>\n",
       "    </tr>\n",
       "  </thead>\n",
       "  <tbody>\n",
       "    <tr>\n",
       "      <th>1</th>\n",
       "      <td>2018\\06\\COLBY_304_T4562218.DATA</td>\n",
       "      <td>2018\\06\\COLBY</td>\n",
       "      <td>304</td>\n",
       "      <td>T4562218.DATA</td>\n",
       "      <td>0.49</td>\n",
       "    </tr>\n",
       "    <tr>\n",
       "      <th>2</th>\n",
       "      <td>2018\\06\\COLBY_304_T3062218.DATA</td>\n",
       "      <td>2018\\06\\COLBY</td>\n",
       "      <td>304</td>\n",
       "      <td>T3062218.DATA</td>\n",
       "      <td>0.50</td>\n",
       "    </tr>\n",
       "    <tr>\n",
       "      <th>3</th>\n",
       "      <td>2018\\06\\COLBY_304_T1562218.DATA</td>\n",
       "      <td>2018\\06\\COLBY</td>\n",
       "      <td>304</td>\n",
       "      <td>T1562218.DATA</td>\n",
       "      <td>0.50</td>\n",
       "    </tr>\n",
       "    <tr>\n",
       "      <th>4</th>\n",
       "      <td>2018\\06\\COLBY_304_T062218.DATA</td>\n",
       "      <td>2018\\06\\COLBY</td>\n",
       "      <td>304</td>\n",
       "      <td>T062218.DATA</td>\n",
       "      <td>0.49</td>\n",
       "    </tr>\n",
       "    <tr>\n",
       "      <th>5</th>\n",
       "      <td>2018\\06\\COLBY_303_T4562218.DATA</td>\n",
       "      <td>2018\\06\\COLBY</td>\n",
       "      <td>303</td>\n",
       "      <td>T4562218.DATA</td>\n",
       "      <td>1.43</td>\n",
       "    </tr>\n",
       "    <tr>\n",
       "      <th>6</th>\n",
       "      <td>2018\\06\\COLBY_303_T3062218.DATA</td>\n",
       "      <td>2018\\06\\COLBY</td>\n",
       "      <td>303</td>\n",
       "      <td>T3062218.DATA</td>\n",
       "      <td>1.26</td>\n",
       "    </tr>\n",
       "    <tr>\n",
       "      <th>7</th>\n",
       "      <td>2018\\06\\COLBY_303_T1562218.DATA</td>\n",
       "      <td>2018\\06\\COLBY</td>\n",
       "      <td>303</td>\n",
       "      <td>T1562218.DATA</td>\n",
       "      <td>0.87</td>\n",
       "    </tr>\n",
       "    <tr>\n",
       "      <th>8</th>\n",
       "      <td>2018\\06\\COLBY_303_T062218.DATA</td>\n",
       "      <td>2018\\06\\COLBY</td>\n",
       "      <td>303</td>\n",
       "      <td>T062218.DATA</td>\n",
       "      <td>0.51</td>\n",
       "    </tr>\n",
       "    <tr>\n",
       "      <th>9</th>\n",
       "      <td>2018\\06\\COLBY_302B_T4562218.DATA</td>\n",
       "      <td>2018\\06\\COLBY</td>\n",
       "      <td>302B</td>\n",
       "      <td>T4562218.DATA</td>\n",
       "      <td>0.62</td>\n",
       "    </tr>\n",
       "    <tr>\n",
       "      <th>10</th>\n",
       "      <td>2018\\06\\COLBY_302B_T3062218.DATA</td>\n",
       "      <td>2018\\06\\COLBY</td>\n",
       "      <td>302B</td>\n",
       "      <td>T3062218.DATA</td>\n",
       "      <td>0.58</td>\n",
       "    </tr>\n",
       "  </tbody>\n",
       "</table>\n",
       "</div>"
      ],
      "text/plain": [
       "                           Sample_ID           Site  Plot           Time   N2O\n",
       "1    2018\\06\\COLBY_304_T4562218.DATA  2018\\06\\COLBY   304  T4562218.DATA  0.49\n",
       "2    2018\\06\\COLBY_304_T3062218.DATA  2018\\06\\COLBY   304  T3062218.DATA  0.50\n",
       "3    2018\\06\\COLBY_304_T1562218.DATA  2018\\06\\COLBY   304  T1562218.DATA  0.50\n",
       "4     2018\\06\\COLBY_304_T062218.DATA  2018\\06\\COLBY   304   T062218.DATA  0.49\n",
       "5    2018\\06\\COLBY_303_T4562218.DATA  2018\\06\\COLBY   303  T4562218.DATA  1.43\n",
       "6    2018\\06\\COLBY_303_T3062218.DATA  2018\\06\\COLBY   303  T3062218.DATA  1.26\n",
       "7    2018\\06\\COLBY_303_T1562218.DATA  2018\\06\\COLBY   303  T1562218.DATA  0.87\n",
       "8     2018\\06\\COLBY_303_T062218.DATA  2018\\06\\COLBY   303   T062218.DATA  0.51\n",
       "9   2018\\06\\COLBY_302B_T4562218.DATA  2018\\06\\COLBY  302B  T4562218.DATA  0.62\n",
       "10  2018\\06\\COLBY_302B_T3062218.DATA  2018\\06\\COLBY  302B  T3062218.DATA  0.58"
      ]
     },
     "execution_count": 115,
     "metadata": {},
     "output_type": "execute_result"
    }
   ],
   "source": [
    "#Splitting Sample_ID column into Site, Plot, Time\n",
    "\n",
    "N2O_split = N2O_new.join(N2O_new.Sample_ID.str.split(\"_\", expand=True).rename(columns={0:'Site', 1:'Plot', 2:'Time'}))\n",
    "N2O_split.head(5)\n",
    "N2O_split = N2O_split[['Sample_ID', 'Site', 'Plot', 'Time', 'N2O']]\n",
    "N2O_split.head(10)\n"
   ]
  },
  {
   "cell_type": "markdown",
   "metadata": {},
   "source": [
    "## Note from Kathy for reviewers\n",
    "\n",
    "#### I still need to handle the Time column to make the time series easier to identify (0, 15, 30, 45 minutes). Once I handle that, I will run the regression below that will pick up the 4 time intervals for each individual plot, with the outputs (slope, etc.) stored in a new csv output. Since I am testing my code, I did create the scatter plot. I will not do that for the final code. I only need to have the regression output values, not each individual scatter plot.\n"
   ]
  },
  {
   "cell_type": "code",
   "execution_count": 125,
   "metadata": {},
   "outputs": [
    {
     "data": {
      "text/plain": [
       "5    1.43\n",
       "6    1.26\n",
       "7    0.87\n",
       "8    0.51\n",
       "Name: N2O, dtype: float64"
      ]
     },
     "execution_count": 125,
     "metadata": {},
     "output_type": "execute_result"
    },
    {
     "data": {
      "image/png": "[encoded data removed]",
      "text/plain": [
       "<Figure size 432x288 with 1 Axes>"
      ]
     },
     "metadata": {
      "needs_background": "light"
     },
     "output_type": "display_data"
    }
   ],
   "source": [
    "x_data = [45, 30, 15, 0]  #Time series in minutes descending in order the gas samples were processed on the gas chromatograph\n",
    "y_data = N2O_split.N2O[4:8]\n",
    "plt.scatter(x_data, y_data)\n",
    "\n",
    "x_data\n",
    "y_data"
   ]
  },
  {
   "cell_type": "code",
   "execution_count": 126,
   "metadata": {},
   "outputs": [
    {
     "name": "stdout",
     "output_type": "stream",
     "text": [
      "0.021\n"
     ]
    }
   ],
   "source": [
    "slope, intercept, r_value, p_value, std_err = stats.linregress(x_data, y_data)\n",
    "print(slope)"
   ]
  },
  {
   "cell_type": "markdown",
   "metadata": {},
   "source": [
    "#### I have an Excel spreadsheet that has already calculated the flux values as slopes for the 2018 N2O data. The slope my code calculated matches the slope in the Excel spreadsheet."
   ]
  },
  {
   "cell_type": "code",
   "execution_count": null,
   "metadata": {},
   "outputs": [],
   "source": []
  }
 ],
 "metadata": {
  "kernelspec": {
   "display_name": "Python 3",
   "language": "python",
   "name": "python3"
  },
  "language_info": {
   "codemirror_mode": {
    "name": "ipython",
    "version": 3
   },
   "file_extension": ".py",
   "mimetype": "text/x-python",
   "name": "python",
   "nbconvert_exporter": "python",
   "pygments_lexer": "ipython3",
   "version": "3.7.1"
  }
 },
 "nbformat": 4,
 "nbformat_minor": 2
}
