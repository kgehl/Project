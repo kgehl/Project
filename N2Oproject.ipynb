{
 "cells": [
  {
   "cell_type": "code",
   "execution_count": 72,
   "metadata": {},
   "outputs": [],
   "source": [
    "import pandas as pd\n",
    "import glob\n",
    "import numpy as np\n",
    "import matplotlib.pyplot as plt\n",
    "%matplotlib inline\n",
    "\n",
    "from scipy import stats"
   ]
  },
  {
   "cell_type": "code",
   "execution_count": 73,
   "metadata": {},
   "outputs": [
    {
     "name": "stdout",
     "output_type": "stream",
     "text": [
      "C:\\Users\\kgehl\\Desktop\\Coding\\Project\n"
     ]
    }
   ],
   "source": [
    "dataset_dir = '/Users/kgehl/Desktop/Coding/Project/'\n",
    "glob.os.chdir(dataset_dir)\n",
    "print(glob.os.getcwd())\n"
   ]
  },
  {
   "cell_type": "code",
   "execution_count": 93,
   "metadata": {},
   "outputs": [],
   "source": [
    "N2O_data = pd.read_csv('Sample_data_set.csv', sep=',')   #Creates the initial Data frame of N2O data\n",
    "N2O_data_rev = N2O_data.drop(columns=['Area/N2O'])      #Drops an column of data not needed. Saved new df as N2O_data_rev\n",
    "N2O_data_rev\n",
    "\n",
    "N2O_data_rev2 = N2O_data_rev.rename(columns={'Unnamed: 0':'Sample_ID', 'Quantity/N2O':'N2O'})  #Renamed some column headings. Revised df is N2O_data_rev2\n",
    "\n",
    "#N2O_data_rev3 = N2O_data_rev2.drop(index=['CHK'], inplace=True)  This is an attempt to delete the air checks and standard checks. Can't get it to work.\n",
    "\n",
    "\n"
   ]
  },
  {
   "cell_type": "code",
   "execution_count": 101,
   "metadata": {},
   "outputs": [
    {
     "data": {
      "text/html": [
       "<div>\n",
       "<style scoped>\n",
       "    .dataframe tbody tr th:only-of-type {\n",
       "        vertical-align: middle;\n",
       "    }\n",
       "\n",
       "    .dataframe tbody tr th {\n",
       "        vertical-align: top;\n",
       "    }\n",
       "\n",
       "    .dataframe thead th {\n",
       "        text-align: right;\n",
       "    }\n",
       "</style>\n",
       "<table border=\"1\" class=\"dataframe\">\n",
       "  <thead>\n",
       "    <tr style=\"text-align: right;\">\n",
       "      <th></th>\n",
       "      <th>Sample_ID</th>\n",
       "      <th>N2O</th>\n",
       "    </tr>\n",
       "  </thead>\n",
       "  <tbody>\n",
       "    <tr>\n",
       "      <th>0</th>\n",
       "      <td>2018\\06\\AIR CHK 262018_6_28_2018 7_13_50 PM.DATA</td>\n",
       "      <td>0.49</td>\n",
       "    </tr>\n",
       "    <tr>\n",
       "      <th>1</th>\n",
       "      <td>2018\\06\\COLBY_404B_T4562018.DATA</td>\n",
       "      <td>0.50</td>\n",
       "    </tr>\n",
       "    <tr>\n",
       "      <th>2</th>\n",
       "      <td>2018\\06\\COLBY_404B_T3062018.DATA</td>\n",
       "      <td>0.62</td>\n",
       "    </tr>\n",
       "    <tr>\n",
       "      <th>3</th>\n",
       "      <td>2018\\06\\COLBY_404B_T1562018.DATA</td>\n",
       "      <td>0.56</td>\n",
       "    </tr>\n",
       "    <tr>\n",
       "      <th>4</th>\n",
       "      <td>2018\\06\\COLBY_404B_T062018.DATA</td>\n",
       "      <td>0.50</td>\n",
       "    </tr>\n",
       "    <tr>\n",
       "      <th>5</th>\n",
       "      <td>2018\\06\\COLBY_404_T4562018.DATA</td>\n",
       "      <td>0.74</td>\n",
       "    </tr>\n",
       "    <tr>\n",
       "      <th>6</th>\n",
       "      <td>2018\\06\\COLBY_404_T3062018.DATA</td>\n",
       "      <td>0.66</td>\n",
       "    </tr>\n",
       "    <tr>\n",
       "      <th>7</th>\n",
       "      <td>2018\\06\\COLBY_404_T1562018.DATA</td>\n",
       "      <td>0.57</td>\n",
       "    </tr>\n",
       "    <tr>\n",
       "      <th>8</th>\n",
       "      <td>2018\\06\\COLBY_404_T062018.DATA</td>\n",
       "      <td>0.51</td>\n",
       "    </tr>\n",
       "    <tr>\n",
       "      <th>9</th>\n",
       "      <td>2018\\06\\COLBY_403_T4562018.DATA</td>\n",
       "      <td>0.92</td>\n",
       "    </tr>\n",
       "    <tr>\n",
       "      <th>10</th>\n",
       "      <td>2018\\06\\COLBY_403_T3062018.DATA</td>\n",
       "      <td>0.50</td>\n",
       "    </tr>\n",
       "    <tr>\n",
       "      <th>11</th>\n",
       "      <td>2018\\06\\COLBY_403_T1562018.DATA</td>\n",
       "      <td>0.65</td>\n",
       "    </tr>\n",
       "    <tr>\n",
       "      <th>12</th>\n",
       "      <td>2018\\06\\COLBY_403_T062018.DATA</td>\n",
       "      <td>0.51</td>\n",
       "    </tr>\n",
       "    <tr>\n",
       "      <th>13</th>\n",
       "      <td>2018\\06\\COLBY_402_T4562018.DATA</td>\n",
       "      <td>1.79</td>\n",
       "    </tr>\n",
       "    <tr>\n",
       "      <th>14</th>\n",
       "      <td>2018\\06\\COLBY_402_T3062018.DATA</td>\n",
       "      <td>1.39</td>\n",
       "    </tr>\n",
       "    <tr>\n",
       "      <th>15</th>\n",
       "      <td>2018\\06\\COLBY_402_T1562018.DATA</td>\n",
       "      <td>1.00</td>\n",
       "    </tr>\n",
       "    <tr>\n",
       "      <th>16</th>\n",
       "      <td>2018\\06\\COLBY_402_T062018.DATA</td>\n",
       "      <td>0.51</td>\n",
       "    </tr>\n",
       "    <tr>\n",
       "      <th>17</th>\n",
       "      <td>2018\\06\\COLBY_401_T4562018.DATA</td>\n",
       "      <td>1.53</td>\n",
       "    </tr>\n",
       "    <tr>\n",
       "      <th>18</th>\n",
       "      <td>2018\\06\\COLBY_401_T3062018.DATA</td>\n",
       "      <td>1.30</td>\n",
       "    </tr>\n",
       "    <tr>\n",
       "      <th>19</th>\n",
       "      <td>2018\\06\\COLBY_401_T1562018.DATA</td>\n",
       "      <td>0.97</td>\n",
       "    </tr>\n",
       "    <tr>\n",
       "      <th>20</th>\n",
       "      <td>2018\\06\\COLBY_401_T062018.DATA</td>\n",
       "      <td>0.52</td>\n",
       "    </tr>\n",
       "    <tr>\n",
       "      <th>21</th>\n",
       "      <td>2018\\06\\Standard Check_1_62018_6_28_2018 4_20_...</td>\n",
       "      <td>2.49</td>\n",
       "    </tr>\n",
       "    <tr>\n",
       "      <th>22</th>\n",
       "      <td>2018\\06\\STD CHK 262018.DATA</td>\n",
       "      <td>2.53</td>\n",
       "    </tr>\n",
       "  </tbody>\n",
       "</table>\n",
       "</div>"
      ],
      "text/plain": [
       "                                            Sample_ID   N2O\n",
       "0    2018\\06\\AIR CHK 262018_6_28_2018 7_13_50 PM.DATA  0.49\n",
       "1                    2018\\06\\COLBY_404B_T4562018.DATA  0.50\n",
       "2                    2018\\06\\COLBY_404B_T3062018.DATA  0.62\n",
       "3                    2018\\06\\COLBY_404B_T1562018.DATA  0.56\n",
       "4                     2018\\06\\COLBY_404B_T062018.DATA  0.50\n",
       "5                     2018\\06\\COLBY_404_T4562018.DATA  0.74\n",
       "6                     2018\\06\\COLBY_404_T3062018.DATA  0.66\n",
       "7                     2018\\06\\COLBY_404_T1562018.DATA  0.57\n",
       "8                      2018\\06\\COLBY_404_T062018.DATA  0.51\n",
       "9                     2018\\06\\COLBY_403_T4562018.DATA  0.92\n",
       "10                    2018\\06\\COLBY_403_T3062018.DATA  0.50\n",
       "11                    2018\\06\\COLBY_403_T1562018.DATA  0.65\n",
       "12                     2018\\06\\COLBY_403_T062018.DATA  0.51\n",
       "13                    2018\\06\\COLBY_402_T4562018.DATA  1.79\n",
       "14                    2018\\06\\COLBY_402_T3062018.DATA  1.39\n",
       "15                    2018\\06\\COLBY_402_T1562018.DATA  1.00\n",
       "16                     2018\\06\\COLBY_402_T062018.DATA  0.51\n",
       "17                    2018\\06\\COLBY_401_T4562018.DATA  1.53\n",
       "18                    2018\\06\\COLBY_401_T3062018.DATA  1.30\n",
       "19                    2018\\06\\COLBY_401_T1562018.DATA  0.97\n",
       "20                     2018\\06\\COLBY_401_T062018.DATA  0.52\n",
       "21  2018\\06\\Standard Check_1_62018_6_28_2018 4_20_...  2.49\n",
       "22                        2018\\06\\STD CHK 262018.DATA  2.53"
      ]
     },
     "execution_count": 101,
     "metadata": {},
     "output_type": "execute_result"
    }
   ],
   "source": [
    "N2O_data_rev2"
   ]
  },
  {
   "cell_type": "code",
   "execution_count": 98,
   "metadata": {},
   "outputs": [
    {
     "data": {
      "text/plain": [
       "5    0.74\n",
       "6    0.66\n",
       "7    0.57\n",
       "8    0.51\n",
       "Name: N2O, dtype: float64"
      ]
     },
     "execution_count": 98,
     "metadata": {},
     "output_type": "execute_result"
    },
    {
     "data": {
      "image/png": "[encoded data removed]",
      "text/plain": [
       "<Figure size 432x288 with 1 Axes>"
      ]
     },
     "metadata": {
      "needs_background": "light"
     },
     "output_type": "display_data"
    }
   ],
   "source": [
    "x_data = [45, 30, 15, 0]  #Time series in minutes descending in order the gas samples were processed on the gas chromatograph\n",
    "y_data = N2O_data_rev2.N2O[5:9]\n",
    "plt.scatter(x_data, y_data)\n",
    "\n",
    "x_data\n",
    "y_data"
   ]
  },
  {
   "cell_type": "code",
   "execution_count": 100,
   "metadata": {},
   "outputs": [
    {
     "name": "stdout",
     "output_type": "stream",
     "text": [
      "0.005200000000000001\n"
     ]
    }
   ],
   "source": [
    "slope, intercept, r_value, p_value, std_err = stats.linregress(x_data, y_data)\n",
    "print(slope)\n"
   ]
  },
  {
   "cell_type": "code",
   "execution_count": null,
   "metadata": {},
   "outputs": [],
   "source": []
  }
 ],
 "metadata": {
  "kernelspec": {
   "display_name": "Python 3",
   "language": "python",
   "name": "python3"
  },
  "language_info": {
   "codemirror_mode": {
    "name": "ipython",
    "version": 3
   },
   "file_extension": ".py",
   "mimetype": "text/x-python",
   "name": "python",
   "nbconvert_exporter": "python",
   "pygments_lexer": "ipython3",
   "version": "3.7.1"
  }
 },
 "nbformat": 4,
 "nbformat_minor": 2
}
